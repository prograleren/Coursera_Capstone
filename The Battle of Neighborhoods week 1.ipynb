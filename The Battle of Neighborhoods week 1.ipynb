{
 "cells": [
  {
   "cell_type": "markdown",
   "metadata": {},
   "source": [
    "# The Battle of Neighborhoods part 1"
   ]
  },
  {
   "cell_type": "code",
   "execution_count": null,
   "metadata": {},
   "outputs": [],
   "source": [
    "# Introduction/Business Problem"
   ]
  },
  {
   "cell_type": "markdown",
   "metadata": {},
   "source": [
    "# 1.  Introduction section:"
   ]
  },
  {
   "cell_type": "markdown",
   "metadata": {},
   "source": [
    "## 1.1 decription of the background.\n",
    "\n",
    "I am a student in the Netherlands studying Finance & Control. \n",
    "This made me discover the stock market, real estate and how to manage your money. A while ago I found a tv show million dollar listing New York. Although I do not particularly enjoy the drama I do love the way these real estate agents sell real estate. I do always think that they can offer more perspective of the area and shops outside of the itself house. Thats why I wanne make a tool that shows you more then the appartment price but also how people rate the neighborhood and how nice it is to live there. I think such a tool can help real estate agents find neighborhoods that fit better with their client.\n",
    "\n",
    "## 1.2 problem to be solved\n",
    "\n",
    "The problem is  that as a real estate agent it takes alot of time to find the right home for your client. This time could drastically be shorted if they used the data lsited below to cluster neighborhoods on price, venues, crime, schools, family friendly, hospitals.\n",
    "\n",
    "## 1.3 usefull for what audience \n",
    "The results can be used by real estate agents in New York to give people a more full picture of the house they want to buy or alternatives with similar neighborhoods."
   ]
  },
  {
   "cell_type": "markdown",
   "metadata": {},
   "source": [
    "# 2. Data section:"
   ]
  },
  {
   "cell_type": "markdown",
   "metadata": {},
   "source": [
    "## in this chapter we will look at the data to be used in the project"
   ]
  },
  {
   "cell_type": "markdown",
   "metadata": {},
   "source": [
    "The following data is needed to give a good perspective of each neighborhood:\n",
    " \n",
    "* list of neighborhoods in New York with their respectable longtitude and latitude\n",
    "* list of the mean houseprices in the neighborhood\n",
    "* list of other things in a neighborhood like crime, cost of living, outdoor Activities, etc\n",
    "* list of what the most shops consist of in the neighborhood."
   ]
  },
  {
   "cell_type": "markdown",
   "metadata": {},
   "source": [
    "The data will be used in the following steps\n",
    "*  Use the Foursquare api and geop data to search for the top 5 most common venues per neighborhood\n",
    "*  webscrape the website where you can find the mean house price per neighborhood\n",
    "*  from the webscraped site there can also be taken some information about the neighborhood like crime & safety, family friendly, nightlife, etc. \n",
    "*  create a map which shows the differend kinds of neighborhoods and their attributes. this can be crime, house price, etc\n",
    "*  and lastly cluster the neighborhoods to see neighborhoods that are similar. "
   ]
  },
  {
   "cell_type": "markdown",
   "metadata": {},
   "source": [
    "The questions that can be answerd by using the above named data after processing are:\n",
    "* Which neighborhoods have the cheapest houses but are also relatively safe?\n",
    "* Which neighborhoods are the best for raising a family?\n",
    "* Are there neighborhoods that are less expensive but overall better?\n",
    "* does the median cost reflect in the overall rating of the neighborhood?"
   ]
  },
  {
   "cell_type": "code",
   "execution_count": null,
   "metadata": {},
   "outputs": [],
   "source": []
  },
  {
   "cell_type": "code",
   "execution_count": 1,
   "metadata": {},
   "outputs": [
    {
     "name": "stdout",
     "output_type": "stream",
     "text": [
      "Requirement already satisfied: sklearn in c:\\users\\gebruiker\\documents\\myproject\\venv\\lib\\site-packages (0.0)\n",
      "Requirement already satisfied: scikit-learn in c:\\users\\gebruiker\\documents\\myproject\\venv\\lib\\site-packages (from sklearn) (0.24.1)\n",
      "Requirement already satisfied: numpy>=1.13.3 in c:\\users\\gebruiker\\documents\\myproject\\venv\\lib\\site-packages (from scikit-learn->sklearn) (1.16.4)\n",
      "Requirement already satisfied: scipy>=0.19.1 in c:\\users\\gebruiker\\documents\\myproject\\venv\\lib\\site-packages (from scikit-learn->sklearn) (1.6.0)\n",
      "Requirement already satisfied: threadpoolctl>=2.0.0 in c:\\users\\gebruiker\\documents\\myproject\\venv\\lib\\site-packages (from scikit-learn->sklearn) (2.1.0)\n",
      "Requirement already satisfied: joblib>=0.11 in c:\\users\\gebruiker\\documents\\myproject\\venv\\lib\\site-packages (from scikit-learn->sklearn) (1.0.0)\n"
     ]
    },
    {
     "name": "stderr",
     "output_type": "stream",
     "text": [
      "WARNING: You are using pip version 20.2.3; however, version 20.3.3 is available.\n",
      "You should consider upgrading via the 'c:\\users\\gebruiker\\documents\\myproject\\venv\\scripts\\python.exe -m pip install --upgrade pip' command.\n"
     ]
    },
    {
     "name": "stdout",
     "output_type": "stream",
     "text": [
      "Requirement already satisfied: geopy in c:\\users\\gebruiker\\documents\\myproject\\venv\\lib\\site-packages (2.1.0)\n",
      "Requirement already satisfied: geographiclib<2,>=1.49 in c:\\users\\gebruiker\\documents\\myproject\\venv\\lib\\site-packages (from geopy) (1.50)\n"
     ]
    },
    {
     "name": "stderr",
     "output_type": "stream",
     "text": [
      "WARNING: You are using pip version 20.2.3; however, version 20.3.3 is available.\n",
      "You should consider upgrading via the 'c:\\users\\gebruiker\\documents\\myproject\\venv\\scripts\\python.exe -m pip install --upgrade pip' command.\n",
      "c:\\users\\gebruiker\\documents\\myproject\\venv\\lib\\site-packages\\scipy\\__init__.py:137: UserWarning: NumPy 1.16.5 or above is required for this version of SciPy (detected version 1.16.4)\n",
      "  UserWarning)\n"
     ]
    }
   ],
   "source": [
    "#importing the library's that are needed.\n",
    "!pip install sklearn \n",
    "!pip install geopy\n",
    "\n",
    "import pandas as pd\n",
    "import numpy as np\n",
    "from geopy.geocoders import Nominatim\n",
    "import folium\n",
    "import sklearn\n",
    "from sklearn.cluster import KMeans\n",
    "from pandas.io.json import json_normalize\n",
    "import matplotlib.cm as cm\n",
    "import matplotlib.colors as colors\n",
    "import urllib.request\n",
    "from bs4 import BeautifulSoup"
   ]
  }
 ],
 "metadata": {
  "kernelspec": {
   "display_name": "Python 3",
   "language": "python",
   "name": "python3"
  },
  "language_info": {
   "codemirror_mode": {
    "name": "ipython",
    "version": 3
   },
   "file_extension": ".py",
   "mimetype": "text/x-python",
   "name": "python",
   "nbconvert_exporter": "python",
   "pygments_lexer": "ipython3",
   "version": "3.7.2"
  }
 },
 "nbformat": 4,
 "nbformat_minor": 2
}
